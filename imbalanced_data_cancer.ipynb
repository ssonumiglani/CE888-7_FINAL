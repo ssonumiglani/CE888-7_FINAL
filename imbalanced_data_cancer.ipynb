{
 "cells": [
  {
   "cell_type": "markdown",
   "metadata": {
    "id": "i4UcVJCng-gB"
   },
   "source": [
    "#CE888-Final Assignment: Breast Cancer\n",
    "## Imbalanced Datasets (Supervised)"
   ]
  },
  {
   "cell_type": "code",
   "execution_count": 1,
   "metadata": {
    "id": "xL5H63DQg8E9"
   },
   "outputs": [],
   "source": [
    "import os\n",
    "import pandas as pd\n",
    "import numpy as np\n",
    "import sklearn\n",
    "import seaborn as sns\n",
    "import matplotlib.pyplot as plt\n",
    "import matplotlib.cm as cm\n",
    "import re\n",
    "\n",
    "from matplotlib import gridspec\n",
    "from sklearn.preprocessing import LabelEncoder, StandardScaler\n",
    "from google.colab import files\n",
    "from sklearn.model_selection import train_test_split,KFold, cross_val_score\n",
    "from sklearn.feature_selection import RFECV\n",
    "from sklearn.decomposition import PCA, KernelPCA\n",
    "from sklearn import tree\n",
    "from sklearn.metrics import (confusion_matrix,recall_score, make_scorer,\n",
    "                    precision_score,accuracy_score,f1_score,\n",
    "                    silhouette_score, completeness_score,silhouette_samples)\n",
    "from sklearn.ensemble import RandomForestClassifier\n",
    "from sklearn.cluster import KMeans\n"
   ]
  },
  {
   "cell_type": "markdown",
   "metadata": {
    "id": "fYKhZV-7gRB8"
   },
   "source": [
    "### 1. Load, prepare, and inspect the datasets.\n"
   ]
  },
  {
   "cell_type": "code",
   "execution_count": 2,
   "metadata": {
    "colab": {
     "base_uri": "https://localhost:8080/",
     "height": 206
    },
    "id": "SPYT9lJWg-My",
    "outputId": "93635290-df37-4c42-fbf1-fcac38bce619"
   },
   "outputs": [
    {
     "data": {
      "text/html": [
       "\n",
       "  <div id=\"df-8d70cb67-8145-41bc-9188-d37497274b98\">\n",
       "    <div class=\"colab-df-container\">\n",
       "      <div>\n",
       "<style scoped>\n",
       "    .dataframe tbody tr th:only-of-type {\n",
       "        vertical-align: middle;\n",
       "    }\n",
       "\n",
       "    .dataframe tbody tr th {\n",
       "        vertical-align: top;\n",
       "    }\n",
       "\n",
       "    .dataframe thead th {\n",
       "        text-align: right;\n",
       "    }\n",
       "</style>\n",
       "<table border=\"1\" class=\"dataframe\">\n",
       "  <thead>\n",
       "    <tr style=\"text-align: right;\">\n",
       "      <th></th>\n",
       "      <th>mean_radius</th>\n",
       "      <th>mean_texture</th>\n",
       "      <th>mean_perimeter</th>\n",
       "      <th>mean_area</th>\n",
       "      <th>mean_smoothness</th>\n",
       "      <th>diagnosis</th>\n",
       "    </tr>\n",
       "  </thead>\n",
       "  <tbody>\n",
       "    <tr>\n",
       "      <th>0</th>\n",
       "      <td>17.99</td>\n",
       "      <td>10.38</td>\n",
       "      <td>122.80</td>\n",
       "      <td>1001.0</td>\n",
       "      <td>0.11840</td>\n",
       "      <td>1</td>\n",
       "    </tr>\n",
       "    <tr>\n",
       "      <th>1</th>\n",
       "      <td>20.57</td>\n",
       "      <td>17.77</td>\n",
       "      <td>132.90</td>\n",
       "      <td>1326.0</td>\n",
       "      <td>0.08474</td>\n",
       "      <td>1</td>\n",
       "    </tr>\n",
       "    <tr>\n",
       "      <th>2</th>\n",
       "      <td>19.69</td>\n",
       "      <td>21.25</td>\n",
       "      <td>130.00</td>\n",
       "      <td>1203.0</td>\n",
       "      <td>0.10960</td>\n",
       "      <td>1</td>\n",
       "    </tr>\n",
       "    <tr>\n",
       "      <th>3</th>\n",
       "      <td>11.42</td>\n",
       "      <td>20.38</td>\n",
       "      <td>77.58</td>\n",
       "      <td>386.1</td>\n",
       "      <td>0.14250</td>\n",
       "      <td>1</td>\n",
       "    </tr>\n",
       "    <tr>\n",
       "      <th>4</th>\n",
       "      <td>20.29</td>\n",
       "      <td>14.34</td>\n",
       "      <td>135.10</td>\n",
       "      <td>1297.0</td>\n",
       "      <td>0.10030</td>\n",
       "      <td>1</td>\n",
       "    </tr>\n",
       "  </tbody>\n",
       "</table>\n",
       "</div>\n",
       "      <button class=\"colab-df-convert\" onclick=\"convertToInteractive('df-8d70cb67-8145-41bc-9188-d37497274b98')\"\n",
       "              title=\"Convert this dataframe to an interactive table.\"\n",
       "              style=\"display:none;\">\n",
       "        \n",
       "  <svg xmlns=\"http://www.w3.org/2000/svg\" height=\"24px\"viewBox=\"0 0 24 24\"\n",
       "       width=\"24px\">\n",
       "    <path d=\"M0 0h24v24H0V0z\" fill=\"none\"/>\n",
       "    <path d=\"M18.56 5.44l.94 2.06.94-2.06 2.06-.94-2.06-.94-.94-2.06-.94 2.06-2.06.94zm-11 1L8.5 8.5l.94-2.06 2.06-.94-2.06-.94L8.5 2.5l-.94 2.06-2.06.94zm10 10l.94 2.06.94-2.06 2.06-.94-2.06-.94-.94-2.06-.94 2.06-2.06.94z\"/><path d=\"M17.41 7.96l-1.37-1.37c-.4-.4-.92-.59-1.43-.59-.52 0-1.04.2-1.43.59L10.3 9.45l-7.72 7.72c-.78.78-.78 2.05 0 2.83L4 21.41c.39.39.9.59 1.41.59.51 0 1.02-.2 1.41-.59l7.78-7.78 2.81-2.81c.8-.78.8-2.07 0-2.86zM5.41 20L4 18.59l7.72-7.72 1.47 1.35L5.41 20z\"/>\n",
       "  </svg>\n",
       "      </button>\n",
       "      \n",
       "  <style>\n",
       "    .colab-df-container {\n",
       "      display:flex;\n",
       "      flex-wrap:wrap;\n",
       "      gap: 12px;\n",
       "    }\n",
       "\n",
       "    .colab-df-convert {\n",
       "      background-color: #E8F0FE;\n",
       "      border: none;\n",
       "      border-radius: 50%;\n",
       "      cursor: pointer;\n",
       "      display: none;\n",
       "      fill: #1967D2;\n",
       "      height: 32px;\n",
       "      padding: 0 0 0 0;\n",
       "      width: 32px;\n",
       "    }\n",
       "\n",
       "    .colab-df-convert:hover {\n",
       "      background-color: #E2EBFA;\n",
       "      box-shadow: 0px 1px 2px rgba(60, 64, 67, 0.3), 0px 1px 3px 1px rgba(60, 64, 67, 0.15);\n",
       "      fill: #174EA6;\n",
       "    }\n",
       "\n",
       "    [theme=dark] .colab-df-convert {\n",
       "      background-color: #3B4455;\n",
       "      fill: #D2E3FC;\n",
       "    }\n",
       "\n",
       "    [theme=dark] .colab-df-convert:hover {\n",
       "      background-color: #434B5C;\n",
       "      box-shadow: 0px 1px 3px 1px rgba(0, 0, 0, 0.15);\n",
       "      filter: drop-shadow(0px 1px 2px rgba(0, 0, 0, 0.3));\n",
       "      fill: #FFFFFF;\n",
       "    }\n",
       "  </style>\n",
       "\n",
       "      <script>\n",
       "        const buttonEl =\n",
       "          document.querySelector('#df-8d70cb67-8145-41bc-9188-d37497274b98 button.colab-df-convert');\n",
       "        buttonEl.style.display =\n",
       "          google.colab.kernel.accessAllowed ? 'block' : 'none';\n",
       "\n",
       "        async function convertToInteractive(key) {\n",
       "          const element = document.querySelector('#df-8d70cb67-8145-41bc-9188-d37497274b98');\n",
       "          const dataTable =\n",
       "            await google.colab.kernel.invokeFunction('convertToInteractive',\n",
       "                                                     [key], {});\n",
       "          if (!dataTable) return;\n",
       "\n",
       "          const docLinkHtml = 'Like what you see? Visit the ' +\n",
       "            '<a target=\"_blank\" href=https://colab.research.google.com/notebooks/data_table.ipynb>data table notebook</a>'\n",
       "            + ' to learn more about interactive tables.';\n",
       "          element.innerHTML = '';\n",
       "          dataTable['output_type'] = 'display_data';\n",
       "          await google.colab.output.renderOutput(dataTable, element);\n",
       "          const docLink = document.createElement('div');\n",
       "          docLink.innerHTML = docLinkHtml;\n",
       "          element.appendChild(docLink);\n",
       "        }\n",
       "      </script>\n",
       "    </div>\n",
       "  </div>\n",
       "  "
      ],
      "text/plain": [
       "   mean_radius  mean_texture  mean_perimeter  mean_area  mean_smoothness  \\\n",
       "0        17.99         10.38          122.80     1001.0          0.11840   \n",
       "1        20.57         17.77          132.90     1326.0          0.08474   \n",
       "2        19.69         21.25          130.00     1203.0          0.10960   \n",
       "3        11.42         20.38           77.58      386.1          0.14250   \n",
       "4        20.29         14.34          135.10     1297.0          0.10030   \n",
       "\n",
       "   diagnosis  \n",
       "0          1  \n",
       "1          1  \n",
       "2          1  \n",
       "3          1  \n",
       "4          1  "
      ]
     },
     "execution_count": 2,
     "metadata": {},
     "output_type": "execute_result"
    }
   ],
   "source": [
    "# Load the data set on Breast cancer detection\n",
    "df3 = pd.read_csv('Breast_cancer_data.csv')\n",
    "df3.loc[df3[\"diagnosis\"]==0,\"diagnosis\"]=2\n",
    "df3.loc[:,\"diagnosis\"]-=1\n",
    "df3.head()"
   ]
  },
  {
   "cell_type": "code",
   "execution_count": 3,
   "metadata": {
    "colab": {
     "base_uri": "https://localhost:8080/"
    },
    "id": "gWCBb8VthZrL",
    "outputId": "096b7ed0-789a-4914-9d1d-6185a6a98021"
   },
   "outputs": [
    {
     "name": "stdout",
     "output_type": "stream",
     "text": [
      "Shape:  (569, 6)\n",
      "Class Proportions:\n",
      " 0    0.627417\n",
      "1    0.372583\n",
      "Name: diagnosis, dtype: float64\n"
     ]
    }
   ],
   "source": [
    "#Before splitting into test and training set, we explore the size and the class proportions in order to confirm it has the right level of imbalance\n",
    "print(\"Shape: \", df3.shape)\n",
    "#Class proportions\n",
    "print(\"Class Proportions:\\n\", df3[\"diagnosis\"].value_counts()/df3[\"diagnosis\"].shape)"
   ]
  },
  {
   "cell_type": "code",
   "execution_count": 4,
   "metadata": {
    "id": "nL4OSqi_hbXj"
   },
   "outputs": [],
   "source": [
    "#Split into 90-10\n",
    "X_3=df3.iloc[:,0:-1].copy()\n",
    "Y_3=df3.iloc[:,-1].copy()\n",
    "\n",
    "x_3=X_3.copy()\n",
    "y_3=Y_3.copy()\n",
    "\n",
    "features3=X_3.columns\n",
    "x3_train, x3_test, y3_train, y3_test=train_test_split(x_3,y_3, train_size=0.9, random_state=21, stratify=y_3)"
   ]
  },
  {
   "cell_type": "code",
   "execution_count": 5,
   "metadata": {
    "colab": {
     "base_uri": "https://localhost:8080/"
    },
    "id": "Ge98VAZ_hcxu",
    "outputId": "119acab5-e1b6-41fe-b920-654280beb24e"
   },
   "outputs": [
    {
     "name": "stdout",
     "output_type": "stream",
     "text": [
      "Train Shape:  (512, 5)\n",
      "Train class Proportions:\n",
      " 0    0.626953\n",
      "1    0.373047\n",
      "Name: diagnosis, dtype: float64\n",
      "Test shape:  (57, 5)\n",
      "Test class Proportions:\n",
      " 0    0.631579\n",
      "1    0.368421\n",
      "Name: diagnosis, dtype: float64\n"
     ]
    }
   ],
   "source": [
    "#We check the proportions of the sets to confirm the imbalance is preserved\n",
    "print(\"Train Shape: \", x3_train.shape)\n",
    "#Class proportions\n",
    "print(\"Train class Proportions:\\n\", y3_train.value_counts()/y3_train.shape)\n",
    "\n",
    "print(\"Test shape: \", x3_test.shape)\n",
    "#Class proportions\n",
    "print(\"Test class Proportions:\\n\", y3_test.value_counts()/y3_test.shape)"
   ]
  },
  {
   "cell_type": "code",
   "execution_count": 6,
   "metadata": {
    "colab": {
     "base_uri": "https://localhost:8080/"
    },
    "id": "Scn-iLHMhgDc",
    "outputId": "b4a91f7f-9918-44d0-ebce-b05f01504525"
   },
   "outputs": [
    {
     "name": "stdout",
     "output_type": "stream",
     "text": [
      "mean_radius:  0.00\n",
      "mean_texture:  0.00\n",
      "mean_perimeter:  0.00\n",
      "mean_area:  0.00\n",
      "mean_smoothness:  0.00\n",
      "Traget class:  0.00\n"
     ]
    }
   ],
   "source": [
    "#Print proportion of missing values\n",
    "proportion=[]\n",
    "for f in features3:\n",
    "  proportion.append(x3_train[f].isna().sum(0)/x3_train.shape[0]*100)  \n",
    "  print(f+\": \", \"{0:.2f}\".format(x3_train[f].isna().sum(0)/df3.shape[0]*100))\n",
    "\n",
    "print(\"Traget class: \", \"{0:.2f}\".format(y3_train.isna().sum(0)/y3_train.shape[0]*100))"
   ]
  },
  {
   "cell_type": "code",
   "execution_count": 7,
   "metadata": {
    "colab": {
     "base_uri": "https://localhost:8080/",
     "height": 206
    },
    "id": "pPmYwzdXhhpr",
    "outputId": "abc0e52a-90c6-4cfd-8b72-6f3afe1d706a"
   },
   "outputs": [
    {
     "data": {
      "text/html": [
       "\n",
       "  <div id=\"df-7944bb0d-76c1-4eaf-bcc7-e4e6240b5cf3\">\n",
       "    <div class=\"colab-df-container\">\n",
       "      <div>\n",
       "<style scoped>\n",
       "    .dataframe tbody tr th:only-of-type {\n",
       "        vertical-align: middle;\n",
       "    }\n",
       "\n",
       "    .dataframe tbody tr th {\n",
       "        vertical-align: top;\n",
       "    }\n",
       "\n",
       "    .dataframe thead th {\n",
       "        text-align: right;\n",
       "    }\n",
       "</style>\n",
       "<table border=\"1\" class=\"dataframe\">\n",
       "  <thead>\n",
       "    <tr style=\"text-align: right;\">\n",
       "      <th></th>\n",
       "      <th>count</th>\n",
       "      <th>mean</th>\n",
       "      <th>std</th>\n",
       "      <th>min</th>\n",
       "      <th>25%</th>\n",
       "      <th>50%</th>\n",
       "      <th>75%</th>\n",
       "      <th>max</th>\n",
       "    </tr>\n",
       "  </thead>\n",
       "  <tbody>\n",
       "    <tr>\n",
       "      <th>mean_radius</th>\n",
       "      <td>512.0</td>\n",
       "      <td>14.097230</td>\n",
       "      <td>3.508969</td>\n",
       "      <td>6.98100</td>\n",
       "      <td>11.687500</td>\n",
       "      <td>13.280000</td>\n",
       "      <td>15.715000</td>\n",
       "      <td>27.4200</td>\n",
       "    </tr>\n",
       "    <tr>\n",
       "      <th>mean_texture</th>\n",
       "      <td>512.0</td>\n",
       "      <td>19.311680</td>\n",
       "      <td>4.372759</td>\n",
       "      <td>9.71000</td>\n",
       "      <td>16.130000</td>\n",
       "      <td>18.880000</td>\n",
       "      <td>21.847500</td>\n",
       "      <td>39.2800</td>\n",
       "    </tr>\n",
       "    <tr>\n",
       "      <th>mean_perimeter</th>\n",
       "      <td>512.0</td>\n",
       "      <td>91.774473</td>\n",
       "      <td>24.230771</td>\n",
       "      <td>43.79000</td>\n",
       "      <td>74.967500</td>\n",
       "      <td>85.980000</td>\n",
       "      <td>103.475000</td>\n",
       "      <td>186.9000</td>\n",
       "    </tr>\n",
       "    <tr>\n",
       "      <th>mean_area</th>\n",
       "      <td>512.0</td>\n",
       "      <td>651.669141</td>\n",
       "      <td>348.178372</td>\n",
       "      <td>143.50000</td>\n",
       "      <td>419.525000</td>\n",
       "      <td>545.650000</td>\n",
       "      <td>762.925000</td>\n",
       "      <td>2501.0000</td>\n",
       "    </tr>\n",
       "    <tr>\n",
       "      <th>mean_smoothness</th>\n",
       "      <td>512.0</td>\n",
       "      <td>0.096588</td>\n",
       "      <td>0.014282</td>\n",
       "      <td>0.05263</td>\n",
       "      <td>0.086508</td>\n",
       "      <td>0.095955</td>\n",
       "      <td>0.105925</td>\n",
       "      <td>0.1634</td>\n",
       "    </tr>\n",
       "  </tbody>\n",
       "</table>\n",
       "</div>\n",
       "      <button class=\"colab-df-convert\" onclick=\"convertToInteractive('df-7944bb0d-76c1-4eaf-bcc7-e4e6240b5cf3')\"\n",
       "              title=\"Convert this dataframe to an interactive table.\"\n",
       "              style=\"display:none;\">\n",
       "        \n",
       "  <svg xmlns=\"http://www.w3.org/2000/svg\" height=\"24px\"viewBox=\"0 0 24 24\"\n",
       "       width=\"24px\">\n",
       "    <path d=\"M0 0h24v24H0V0z\" fill=\"none\"/>\n",
       "    <path d=\"M18.56 5.44l.94 2.06.94-2.06 2.06-.94-2.06-.94-.94-2.06-.94 2.06-2.06.94zm-11 1L8.5 8.5l.94-2.06 2.06-.94-2.06-.94L8.5 2.5l-.94 2.06-2.06.94zm10 10l.94 2.06.94-2.06 2.06-.94-2.06-.94-.94-2.06-.94 2.06-2.06.94z\"/><path d=\"M17.41 7.96l-1.37-1.37c-.4-.4-.92-.59-1.43-.59-.52 0-1.04.2-1.43.59L10.3 9.45l-7.72 7.72c-.78.78-.78 2.05 0 2.83L4 21.41c.39.39.9.59 1.41.59.51 0 1.02-.2 1.41-.59l7.78-7.78 2.81-2.81c.8-.78.8-2.07 0-2.86zM5.41 20L4 18.59l7.72-7.72 1.47 1.35L5.41 20z\"/>\n",
       "  </svg>\n",
       "      </button>\n",
       "      \n",
       "  <style>\n",
       "    .colab-df-container {\n",
       "      display:flex;\n",
       "      flex-wrap:wrap;\n",
       "      gap: 12px;\n",
       "    }\n",
       "\n",
       "    .colab-df-convert {\n",
       "      background-color: #E8F0FE;\n",
       "      border: none;\n",
       "      border-radius: 50%;\n",
       "      cursor: pointer;\n",
       "      display: none;\n",
       "      fill: #1967D2;\n",
       "      height: 32px;\n",
       "      padding: 0 0 0 0;\n",
       "      width: 32px;\n",
       "    }\n",
       "\n",
       "    .colab-df-convert:hover {\n",
       "      background-color: #E2EBFA;\n",
       "      box-shadow: 0px 1px 2px rgba(60, 64, 67, 0.3), 0px 1px 3px 1px rgba(60, 64, 67, 0.15);\n",
       "      fill: #174EA6;\n",
       "    }\n",
       "\n",
       "    [theme=dark] .colab-df-convert {\n",
       "      background-color: #3B4455;\n",
       "      fill: #D2E3FC;\n",
       "    }\n",
       "\n",
       "    [theme=dark] .colab-df-convert:hover {\n",
       "      background-color: #434B5C;\n",
       "      box-shadow: 0px 1px 3px 1px rgba(0, 0, 0, 0.15);\n",
       "      filter: drop-shadow(0px 1px 2px rgba(0, 0, 0, 0.3));\n",
       "      fill: #FFFFFF;\n",
       "    }\n",
       "  </style>\n",
       "\n",
       "      <script>\n",
       "        const buttonEl =\n",
       "          document.querySelector('#df-7944bb0d-76c1-4eaf-bcc7-e4e6240b5cf3 button.colab-df-convert');\n",
       "        buttonEl.style.display =\n",
       "          google.colab.kernel.accessAllowed ? 'block' : 'none';\n",
       "\n",
       "        async function convertToInteractive(key) {\n",
       "          const element = document.querySelector('#df-7944bb0d-76c1-4eaf-bcc7-e4e6240b5cf3');\n",
       "          const dataTable =\n",
       "            await google.colab.kernel.invokeFunction('convertToInteractive',\n",
       "                                                     [key], {});\n",
       "          if (!dataTable) return;\n",
       "\n",
       "          const docLinkHtml = 'Like what you see? Visit the ' +\n",
       "            '<a target=\"_blank\" href=https://colab.research.google.com/notebooks/data_table.ipynb>data table notebook</a>'\n",
       "            + ' to learn more about interactive tables.';\n",
       "          element.innerHTML = '';\n",
       "          dataTable['output_type'] = 'display_data';\n",
       "          await google.colab.output.renderOutput(dataTable, element);\n",
       "          const docLink = document.createElement('div');\n",
       "          docLink.innerHTML = docLinkHtml;\n",
       "          element.appendChild(docLink);\n",
       "        }\n",
       "      </script>\n",
       "    </div>\n",
       "  </div>\n",
       "  "
      ],
      "text/plain": [
       "                 count        mean         std        min         25%  \\\n",
       "mean_radius      512.0   14.097230    3.508969    6.98100   11.687500   \n",
       "mean_texture     512.0   19.311680    4.372759    9.71000   16.130000   \n",
       "mean_perimeter   512.0   91.774473   24.230771   43.79000   74.967500   \n",
       "mean_area        512.0  651.669141  348.178372  143.50000  419.525000   \n",
       "mean_smoothness  512.0    0.096588    0.014282    0.05263    0.086508   \n",
       "\n",
       "                        50%         75%        max  \n",
       "mean_radius       13.280000   15.715000    27.4200  \n",
       "mean_texture      18.880000   21.847500    39.2800  \n",
       "mean_perimeter    85.980000  103.475000   186.9000  \n",
       "mean_area        545.650000  762.925000  2501.0000  \n",
       "mean_smoothness    0.095955    0.105925     0.1634  "
      ]
     },
     "execution_count": 7,
     "metadata": {},
     "output_type": "execute_result"
    }
   ],
   "source": [
    "# Descriptive sattistics in Latex format\n",
    "x3_train.describe().transpose() #.to_latex(float_format=\"%.2f\"))   #latex for the report."
   ]
  },
  {
   "cell_type": "code",
   "execution_count": 8,
   "metadata": {
    "id": "KVxAqpW4hjLM"
   },
   "outputs": [],
   "source": [
    "##Since the scales and distribution characteristics of the features are too different we decide to normalize them. \n",
    "#In this step we create a copy to visualize them in a boxplot.\n",
    "#However during the cross-validation steps we will use the original training set and normalize it inside the loop. \n",
    "scaler=StandardScaler()\n",
    "x3_train_norm=x3_train.copy()\n",
    "x3_train_norm[:]=scaler.fit_transform(x3_train_norm[:])\n",
    "y3_train_norm=y3_train.copy()\n",
    "\n",
    "#normalize test set using parameters from training set.\n",
    "x3_test_norm=x3_test.copy()\n",
    "x3_test_norm[:]=scaler.fit_transform(x3_test_norm[:])\n",
    "y3_test_norm=y3_test.copy()\n"
   ]
  },
  {
   "cell_type": "code",
   "execution_count": 9,
   "metadata": {
    "colab": {
     "base_uri": "https://localhost:8080/",
     "height": 545
    },
    "id": "3dGAWtCNZjXH",
    "outputId": "fd5a3c1e-96f2-40d1-cf34-867d436ecb82"
   },
   "outputs": [
    {
     "name": "stdout",
     "output_type": "stream",
     "text": [
      "Optimal number of features : 4\n"
     ]
    },
    {
     "name": "stderr",
     "output_type": "stream",
     "text": [
      "/usr/local/lib/python3.7/dist-packages/sklearn/utils/deprecation.py:103: FutureWarning: The `grid_scores_` attribute is deprecated in version 1.0 in favor of `cv_results_` and will be removed in version 1.2.\n",
      "  warnings.warn(msg, category=FutureWarning)\n"
     ]
    },
    {
     "data": {
      "text/plain": [
       "[<matplotlib.lines.Line2D at 0x7f860c00dc10>,\n",
       " <matplotlib.lines.Line2D at 0x7f860bfac2d0>,\n",
       " <matplotlib.lines.Line2D at 0x7f860bfac490>,\n",
       " <matplotlib.lines.Line2D at 0x7f860bfac650>,\n",
       " <matplotlib.lines.Line2D at 0x7f860bfac810>,\n",
       " <matplotlib.lines.Line2D at 0x7f860bfac9d0>,\n",
       " <matplotlib.lines.Line2D at 0x7f860bfacc10>,\n",
       " <matplotlib.lines.Line2D at 0x7f860bfacdd0>,\n",
       " <matplotlib.lines.Line2D at 0x7f860bfacf90>,\n",
       " <matplotlib.lines.Line2D at 0x7f860bfaca10>]"
      ]
     },
     "execution_count": 9,
     "metadata": {},
     "output_type": "execute_result"
    },
    {
     "data": {
      "image/png": "[encoded data removed]",
      "text/plain": [
       "<Figure size 504x288 with 1 Axes>"
      ]
     },
     "metadata": {
      "needs_background": "light"
     },
     "output_type": "display_data"
    }
   ],
   "source": [
    "#Recursive Cross-Validated Feature Selection \n",
    "#We use the same folds from this point on\n",
    "k_fold = KFold(n_splits=10) \n",
    "feature_selection=tree.DecisionTreeClassifier(criterion = \"entropy\", random_state=21)\n",
    "f1_scorer=make_scorer(f1_score)\n",
    "selector=RFECV(feature_selection,cv=k_fold,scoring=f1_scorer)\n",
    "selector.fit(x3_train_norm,y3_train)\n",
    "#keeping selected variables and printing names for control\n",
    "x_best=x3_train_norm.loc[:,selector.get_support()]\n",
    "xv_best=x3_test_norm.loc[:,selector.get_support()]\n",
    "print(\"Optimal number of features : %d\" % selector.n_features_)\n",
    "\n",
    "# Plot number of features VS. cross-validation scores\n",
    "fig = plt.subplots(figsize=(7,4))\n",
    "plt.xlabel(\"Number of features selected\")\n",
    "plt.ylabel(\"Cross validation score (nb of correct classifications)\")\n",
    "plt.plot(range(1, len(selector.grid_scores_) + 1), selector.grid_scores_)\n"
   ]
  },
  {
   "cell_type": "markdown",
   "metadata": {
    "id": "J_Vh-tNmaCRn"
   },
   "source": [
    "Auxiliar functions"
   ]
  },
  {
   "cell_type": "code",
   "execution_count": 10,
   "metadata": {
    "id": "pPMXzyx_ZspN"
   },
   "outputs": [],
   "source": [
    "#Bootstraping mean\n",
    "def boostrap_mean(sample, sample_size, n_iterations):\n",
    "\tbootstrap_samples=np.random.choice(sample, size=(n_iterations,sample_size), replace=True)\n",
    "\tmean_array=np.mean(bootstrap_samples, axis=1)\n",
    "\tdata_mean=np.mean(mean_array)\n",
    "\tlower=np.percentile(mean_array,2.5)\n",
    "\tupper=np.percentile(mean_array,97.5)\n",
    "\treturn data_mean, lower, upper\n",
    "\n",
    "#Bootstraping standard deviation\n",
    "def boostrap_std(sample, sample_size, n_iterations):\n",
    "\tbootstrap_samples=np.random.choice(sample, size=(n_iterations,sample_size), replace=True)\n",
    "\tstd_array=np.std(bootstrap_samples, axis=1)\n",
    "\tdata_std=np.mean(std_array)\n",
    "\treturn data_std\n",
    "\n",
    "#Distance function from the Total within-cluster sum of sqaures to the arch. Used during the Elbow method \n",
    "def calc_distance(x1,y1,a,b,c):\n",
    "  d=abs(a*x1+b*y1+c)/((a*a+b*b)**0.5)\n",
    "  return d\n",
    "\n",
    "#permutation test: mean difference\tp-value\n",
    "def permutation_test(array1, array2, n_iterations):\n",
    "  results=[]\n",
    "  current_mean=np.mean(array1)\n",
    "  new_mean=np.mean(array2)\n",
    "  t_obs=new_mean-current_mean\n",
    "  concat = np.concatenate((array1, array2))\n",
    "  for i in range(n_iterations):    \n",
    "    perm = np.random.permutation(concat)\n",
    "    pcurrent= perm[:len(array1)]\n",
    "    pnew= perm[len(array1):]\n",
    "    t_perm=np.mean(pnew)-np.mean(pcurrent)\n",
    "    if t_perm>t_obs:\n",
    "      results.append(1)\n",
    "    else:\n",
    "      results.append(0)\n",
    "  p_value=np.sum(results)/n_iterations\n",
    "  return(p_value)"
   ]
  },
  {
   "cell_type": "markdown",
   "metadata": {
    "id": "RVkhmG00h2Sz"
   },
   "source": [
    "## 2.RF Baselines"
   ]
  },
  {
   "cell_type": "code",
   "execution_count": 23,
   "metadata": {
    "colab": {
     "base_uri": "https://localhost:8080/"
    },
    "id": "0zMqcrxOZ0bG",
    "outputId": "7c07f48f-ef6a-4143-9377-d91c15cf5453"
   },
   "outputs": [
    {
     "name": "stdout",
     "output_type": "stream",
     "text": [
      "Classifier: RandomForestClassifier\n",
      "accuracy \n",
      "mean: 0.9178, lower: 0.8942, upper: 0.9414, std: 0.0356 \n",
      "f1 \n",
      "mean: 0.8847, lower: 0.8519, upper: 0.9183, std: 0.0503 \n",
      "g-mean \n",
      "mean: 0.8872, lower: 0.8554, upper: 0.9202, std: 0.0490 \n",
      "\n",
      "\n"
     ]
    }
   ],
   "source": [
    "#Empty lists to store results\n",
    "accuracy_base=[]\n",
    "f1_base=[]\n",
    "g_mean_base=[]\n",
    "metrics_base={\"accuracy\": accuracy_base, \"f1\": f1_base, \"g-mean\": g_mean_base}\n",
    "\n",
    "#baselines\n",
    "rf_base=  RandomForestClassifier(500, random_state=42)\n",
    "clf=[rf_base]\n",
    "\n",
    "#10-fold cross validation trhough each baseline\n",
    "for c in clf:\n",
    "  c_name=c.__class__.__name__\n",
    "  print(\"Classifier: %s\" % c_name)\n",
    "  for train_indices, test_indices in k_fold.split(x3_train):\n",
    "    #Train-validation split using best features\n",
    "    x3_train_f=x3_train.iloc[train_indices,selector.get_support()].copy()\n",
    "    x3_train_f[:]=scaler.fit_transform(x3_train_f[:])\n",
    "    y3_train_f=y3_train.iloc[train_indices].copy()\n",
    "    x3_val_f=x3_train.iloc[test_indices,selector.get_support()].copy()\n",
    "    x3_val_f[:]=scaler.transform(x3_val_f[:])\n",
    "    y3_val_f=y3_train.iloc[test_indices].copy()\n",
    "  \n",
    "    #training baseline\n",
    "    c.fit(x3_train_f, y3_train_f)\n",
    "    \n",
    "    #predicting class and computing metrics\n",
    "    y_hat=c.predict(x3_val_f)\n",
    "    f1_f=f1_score(y3_val_f,y_hat)\n",
    "    acc_f=accuracy_score(y3_val_f,y_hat)\n",
    "    pr_r=precision_score(y3_val_f,y_hat)\n",
    "    rec_f=recall_score(y3_val_f,y_hat)\n",
    "    gmean_f=(pr_r*rec_f)**(0.5)\n",
    "\n",
    "    #appending to results\n",
    "    accuracy_base.append([acc_f,c.__class__.__name__])\n",
    "    f1_base.append([f1_f,c.__class__.__name__])\n",
    "    g_mean_base.append([gmean_f,c.__class__.__name__])\n",
    "  \n",
    "  #printing results for each baseline\n",
    "  for m, v in metrics_base.items():\n",
    "    mean,l,u=boostrap_mean(np.array(v)[np.array(v)[:,1]==c_name][:,0].astype(float), \\\n",
    "                          len(np.array(v)[np.array(v)[:,1]==c_name][:,0].astype(float)),10000)\n",
    "    std=boostrap_std(np.array(v)[np.array(v)[:,1]==c_name][:,0].astype(float), \\\n",
    "                          len(np.array(v)[np.array(v)[:,1]==c_name][:,0].astype(float)),10000)\n",
    "    print(\"%s \\nmean: %0.4f, lower: %0.4f, upper: %0.4f, std: %0.4f \" % (m,mean, l,u,std))\n",
    "  print(\"\\n\")"
   ]
  },
  {
   "cell_type": "markdown",
   "metadata": {
    "id": "ox8WZSJxdKrK"
   },
   "source": [
    "Random upsampling (not included in the report)"
   ]
  },
  {
   "cell_type": "code",
   "execution_count": 12,
   "metadata": {
    "colab": {
     "base_uri": "https://localhost:8080/"
    },
    "id": "6xYyOGM6M8mO",
    "outputId": "fd01eb8e-e837-4d01-ee78-e58b6f925822"
   },
   "outputs": [
    {
     "name": "stdout",
     "output_type": "stream",
     "text": [
      "accuracy \n",
      "mean: 0.9119, lower: 0.8824, upper: 0.9395, std: 0.0442 \n",
      "f1 \n",
      "mean: 0.8797, lower: 0.8403, upper: 0.9172, std: 0.0579 \n",
      "g-mean \n",
      "mean: 0.8822, lower: 0.8445, upper: 0.9186, std: 0.0560 \n",
      "\n",
      "\n"
     ]
    }
   ],
   "source": [
    "#Empty lists to store results\n",
    "accuracy_up=[]\n",
    "f1_up=[]\n",
    "g_mean_up=[]\n",
    "metrics_up={\"accuracy\": accuracy_up, \"f1\": f1_up, \"g-mean\": g_mean_up}\n",
    "\n",
    "#upsampling learner\n",
    "rf_up=  RandomForestClassifier(500, random_state=21)\n",
    "\n",
    "#10-fold CV for the random upsampling\n",
    "for train_indices, test_indices in k_fold.split(x3_train):\n",
    "  #Train-validation split using best features\n",
    "    x3_train_f=x3_train.iloc[train_indices,selector.get_support()].copy()\n",
    "    x3_train_f[:]=scaler.fit_transform(x3_train_f[:])\n",
    "    y3_train_f=y3_train.iloc[train_indices].copy()\n",
    "    x3_val_f=x3_train.iloc[test_indices,selector.get_support()].copy()\n",
    "    x3_val_f[:]=scaler.transform(x3_val_f[:])\n",
    "    y3_val_f=y3_train.iloc[test_indices].copy()\n",
    "    \n",
    "    #Randome Upsampling is conducted\n",
    "    idx=np.random.choice(x3_train_f.index[y3_train_f==1], size=(x3_train_f[y3_train_f==0].shape[0]), replace=True)\n",
    "    upx=x3_train_f.loc[idx]\n",
    "    upy=y3_train_f.loc[idx]\n",
    "    x3_train_f=x3_train_f[y3_train_f==0].append(upx)\n",
    "    y3_train_f=y3_train_f[y3_train_f==0].append(upy)\n",
    "    \n",
    "    #training classifier with upsampled training set\n",
    "    rf_up.fit(x3_train_f, y3_train_f)\n",
    "\n",
    "    #prediction and metrics estimation\n",
    "    y_hat=rf_up.predict(x3_val_f)\n",
    "    f1_f=f1_score(y3_val_f,y_hat)\n",
    "    acc_f=accuracy_score(y3_val_f,y_hat)\n",
    "    pr_r=precision_score(y3_val_f,y_hat)\n",
    "    rec_f=recall_score(y3_val_f,y_hat)\n",
    "    gmean_f=(pr_r*rec_f)**(0.5) \n",
    "\n",
    "    #appending results to  list\n",
    "    accuracy_up.append([acc_f,c.__class__.__name__])\n",
    "    f1_up.append([f1_f,c.__class__.__name__])\n",
    "    g_mean_up.append([gmean_f,c.__class__.__name__])\n",
    "\n",
    "#prinitng upsampling results\n",
    "for m, v in metrics_up.items():\n",
    "  mean,l,u=boostrap_mean(np.array(v)[np.array(v)[:,1]==c_name][:,0].astype(float), \\\n",
    "                        len(np.array(v)[np.array(v)[:,1]==c_name][:,0].astype(float)),10000)\n",
    "  std=boostrap_std(np.array(v)[np.array(v)[:,1]==c_name][:,0].astype(float), \\\n",
    "                        len(np.array(v)[np.array(v)[:,1]==c_name][:,0].astype(float)),10000)\n",
    "  print(\"%s \\nmean: %0.4f, lower: %0.4f, upper: %0.4f, std: %0.4f \" % (m,mean, l,u,std))\n",
    "print(\"\\n\")"
   ]
  },
  {
   "cell_type": "markdown",
   "metadata": {
    "id": "TH4Q42MHh-xs"
   },
   "source": [
    "## 3. Cluster Analysys"
   ]
  },
  {
   "cell_type": "code",
   "execution_count": 15,
   "metadata": {
    "colab": {
     "base_uri": "https://localhost:8080/"
    },
    "id": "jx9Cax2laOwt",
    "outputId": "063d9519-421c-4ac6-82e0-21a84c28c3c5"
   },
   "outputs": [
    {
     "name": "stdout",
     "output_type": "stream",
     "text": [
      "Fold: 1\n",
      "Best k: 3\n",
      "Fold: 2\n",
      "Best k: 3\n",
      "Fold: 3\n",
      "Best k: 3\n",
      "Fold: 4\n",
      "Best k: 4\n",
      "Fold: 5\n",
      "Best k: 3\n",
      "Fold: 6\n",
      "Best k: 3\n",
      "Fold: 7\n",
      "Best k: 3\n",
      "Fold: 8\n",
      "Best k: 4\n",
      "Fold: 9\n",
      "Best k: 3\n",
      "Fold: 10\n",
      "Best k: 4\n",
      "\n",
      "\n",
      "accuracy \n",
      "mean: 0.9158, lower: 0.8962, upper: 0.9357, std: 0.0294 \n",
      "f1 \n",
      "mean: 0.8765, lower: 0.8449, upper: 0.9098, std: 0.0487 \n",
      "g-mean \n",
      "mean: 0.8795, lower: 0.8483, upper: 0.9109, std: 0.0469 \n"
     ]
    }
   ],
   "source": [
    "#defining maximum number of clusters\n",
    "kmax=10 \n",
    "#creating empty lists to store results\n",
    "accuracy_cluster=[]\n",
    "f1_cluster=[]\n",
    "g_mean_cluster=[]\n",
    "metrics_cluster={\"accuracy\": accuracy_cluster, \"f1\": f1_cluster, \"g-mean\": g_mean_cluster}\n",
    "\n",
    "#10-fold CV for cluster-based method\n",
    "i=1 #iterator variable\n",
    "for train_indices, test_indices in k_fold.split(x3_train):\n",
    "  print(\"Fold: %s\" % i) #control message\n",
    "  #Training-validation split\n",
    "  x3_train_f=x3_train.iloc[train_indices,selector.get_support()].copy()\n",
    "  x3_train_f[:]=scaler.fit_transform(x3_train_f[:])\n",
    "  y3_train_f=y3_train.iloc[train_indices].copy()\n",
    "  x3_val_f=x3_train.iloc[test_indices,selector.get_support()].copy()\n",
    "  x3_val_f[:]=scaler.transform(x3_val_f[:])\n",
    "  y3_val_f=y3_train.iloc[test_indices].copy()\n",
    "\n",
    "  #####################################\n",
    "  #Optimal number of clusters selection\n",
    "  #####################################\n",
    "  k_optimal=[]  #empty list to store results from each method\n",
    "  wss=[]  #empty list for sum of squares\n",
    "  silhouette_avg=[] #empty list for silhouette score\n",
    "\n",
    "  #compute 'kmax' different clusters\n",
    "  for k in range(1,kmax+1):\n",
    "    kmeans = KMeans(n_clusters=k, random_state=21)  #defining algorithm\n",
    "    cluster=kmeans.fit_predict(x3_train_f)  #fit kmeans\n",
    "    #append silhouette score >1 as for k=1 it is not defined\n",
    "    if k!=1:\n",
    "      sil=silhouette_score(x3_train_f, cluster)\n",
    "      silhouette_avg.append(sil)\n",
    "    #append sum of squares\n",
    "    wss.append(kmeans.inertia_)\n",
    "\n",
    "  ################\n",
    "  #Elbow Method\n",
    "  ################\n",
    "  #Rescale sum of squares\n",
    "  # wss=(wss-min(wss))/(max(wss)-min(wss))\n",
    "\n",
    "  #defining variables to compute distance from sum of squares curve\n",
    "  #to the arch connecting both extremes (see plot below)\n",
    "  a=wss[0]-wss[-1]\n",
    "  b=list(range(1,kmax+1))[-1]-list(range(1,kmax+1))[0]\n",
    "  c1=list(range(1,kmax+1))[0]*wss[-1]\n",
    "  c2=list(range(1,kmax+1))[-1]*wss[0]\n",
    "  c=c1-c2\n",
    "\n",
    "  #computing distance from sum of squares curve to the arch\n",
    "  distance=[]\n",
    "  for k in range(kmax):\n",
    "    distance.append(calc_distance(list(range(1,kmax+1))[k],wss[k],a,b,c))\n",
    "  #appending optimal K based on the elbow method\n",
    "  k_optimal.append(list(range(1,kmax+1))[np.argmax(distance)])\n",
    "\n",
    "  ###################\n",
    "  #Silhouette Method \n",
    "  ################## \n",
    "  #appending optimal K as that with the maximum silhouette score\n",
    "  k_optimal.append(list(range(2,kmax+1))[np.argmax(silhouette_avg)])\n",
    "\n",
    "  #choosing the max between the two methods (as it yields better results\n",
    "  #than selecting the min)\n",
    "  k_optimal=max(k_optimal)\n",
    "  print(\"Best k: %s\" % k_optimal) #print optimal K\n",
    "\n",
    "  ################\n",
    "  #Learning stage\n",
    "  ################\n",
    "  #defining kmeans algorithm\n",
    "  kmeans = KMeans(n_clusters=k_optimal, random_state=21)\n",
    "  cluster=kmeans.fit_predict(x3_train_f)  #fitting kmeans algorithm\n",
    "\n",
    "  #checking whether all clusters have instances from the same class\n",
    "  i2=0  #iterator\n",
    "  rf={} #empty dictionary to store Random Forest classifieres\n",
    "  #iterating through the clusters\n",
    "  for k in range(k_optimal):\n",
    "    #checking if cluster is 'complete' (instances from same class)\n",
    "    if (y3_train_f[cluster==k].unique().shape[0]==1) is False:\n",
    "      #defining classifier and storing it in the dictionary\n",
    "      rf['rf_{0}'.format(k)] = RandomForestClassifier(500, random_state=21)\n",
    "      #training classifier\n",
    "      rf[list(rf.keys())[i2]].fit(x3_train_f[cluster==k],y3_train_f[cluster==k])\n",
    "      i2+=1 #increasing iterator\n",
    "\n",
    "  ##################\n",
    "  #predicting Stage\n",
    "  ##################\n",
    "  #fitting kmeans on validation set previoulsy trained using training set\n",
    "  y_hat=kmeans.predict(x3_val_f)  \n",
    "  i3=0 #iterator\n",
    "  #Loop through clusters to check if it has instances from the same class\n",
    "  for k in range(k_optimal):\n",
    "    #checking if cluster is 'complete'\n",
    "    if (y3_train_f[cluster==k].unique().shape[0]==1) is True:\n",
    "      #if it is complete, assign the corresponding class to the validation instances in that cluster\n",
    "      y_hat[y_hat==k]=np.mean(y3_train_f[cluster==k])\n",
    "    else:\n",
    "      #if not use the pre-trained classifier to predict the class\n",
    "      y_hat[y_hat==k]=rf[list(rf.keys())[i3]].predict(x3_val_f[y_hat==k])\n",
    "      i3+=1 #increase iterator\n",
    "\n",
    "  #computing metrics\n",
    "  f1_f=f1_score(y3_val_f,y_hat)\n",
    "  acc_f=accuracy_score(y3_val_f,y_hat)\n",
    "  pr_r=precision_score(y3_val_f,y_hat)\n",
    "  rec_f=recall_score(y3_val_f,y_hat)\n",
    "  gmean_f=(pr_r*rec_f)**(0.5)\n",
    "\n",
    "  #appending metrics to lists\n",
    "  accuracy_cluster.append([acc_f,i])\n",
    "  f1_cluster.append([f1_f,i])\n",
    "  g_mean_cluster.append([gmean_f,i])\n",
    "  i+=1 \n",
    "\n",
    "print(\"\\n\") \n",
    "#printing results\n",
    "for m, v in metrics_cluster.items():\n",
    "  mean,l,u=boostrap_mean(np.array(v)[:,0].astype(float), \\\n",
    "                        len(np.array(v)[:,0].astype(float)),10000)\n",
    "  std=boostrap_std(np.array(v)[:,0].astype(float), \\\n",
    "                        len(np.array(v)[:,0].astype(float)),10000)\n",
    "  print(\"%s \\nmean: %0.4f, lower: %0.4f, upper: %0.4f, std: %0.4f \" % (m,mean, l,u,std))\n"
   ]
  },
  {
   "cell_type": "markdown",
   "metadata": {
    "id": "vrM0Eu0PikvY"
   },
   "source": [
    "## 4. Permutation Test"
   ]
  },
  {
   "cell_type": "markdown",
   "metadata": {
    "id": "DSue5xKtpwlW"
   },
   "source": [
    "### A) F1 Score"
   ]
  },
  {
   "cell_type": "code",
   "execution_count": 22,
   "metadata": {
    "colab": {
     "base_uri": "https://localhost:8080/"
    },
    "id": "nnLvgi1wapww",
    "outputId": "c7037909-eb74-4bdc-c6cc-fa0accd4940a"
   },
   "outputs": [
    {
     "name": "stdout",
     "output_type": "stream",
     "text": [
      "F1 Score Mean Difference: Cluster-RF vs RandomForestClassifier:\n",
      "Difference: -0.0037, p-value: 0.5440\n"
     ]
    }
   ],
   "source": [
    "base=[\"RandomForestClassifier\"] #lists with baselines\n",
    "\n",
    "#compare our method against baselines\n",
    "for b in base:\n",
    "  print(\"F1 Score Mean Difference: Cluster-RF vs %s:\" % b)  #message\n",
    "  cluster=np.array(f1_cluster)[:,0] #getting results from our method\n",
    "  base=np.array(f1_base)[np.array(f1_base)[:,1]==b][:,0].astype(float) #baselines results\n",
    "  diff=np.mean(cluster)-np.mean(base) #computing mean difference\n",
    "  p_value=permutation_test(base,cluster,1000) #estimating p-value\n",
    "  print(\"Difference: %0.4f, p-value: %0.4f\" % (diff, p_value))  #printing p-value\n"
   ]
  },
  {
   "cell_type": "markdown",
   "metadata": {
    "id": "l9cqWYE00A9B"
   },
   "source": [
    "### B) G-mean "
   ]
  },
  {
   "cell_type": "code",
   "execution_count": 25,
   "metadata": {
    "colab": {
     "base_uri": "https://localhost:8080/"
    },
    "id": "sXc54FCZa0Gf",
    "outputId": "40a2587a-5c67-4a00-8985-e13960b55426"
   },
   "outputs": [
    {
     "name": "stdout",
     "output_type": "stream",
     "text": [
      "G-mean Score Mean Difference: Cluster-RF vs RandomForestClassifier:\n",
      "Difference: -0.0076, p-value: 0.6230\n"
     ]
    }
   ],
   "source": [
    "base=[\"RandomForestClassifier\"]  #lists with baselines\n",
    "\n",
    "#compare our method against baselines\n",
    "for b in base:\n",
    "  print(\"G-mean Score Mean Difference: Cluster-RF vs %s:\" % b)  #message\n",
    "  cluster=np.array(g_mean_cluster)[:,0] #getting results from our method\n",
    "  base=np.array(g_mean_base)[np.array(g_mean_base)[:,1]==b][:,0].astype(float)  #baselines results\n",
    "  diff=np.mean(cluster)-np.mean(base) #computing mean difference\n",
    "  p_value=permutation_test(base,cluster,1000) #estimating p-value\n",
    "  print(\"Difference: %0.4f, p-value: %0.4f\" % (diff, p_value))  #printing p-value"
   ]
  },
  {
   "cell_type": "markdown",
   "metadata": {
    "id": "CZIPQekK1eCV"
   },
   "source": [
    "### C) Accuracy"
   ]
  },
  {
   "cell_type": "code",
   "execution_count": 26,
   "metadata": {
    "colab": {
     "base_uri": "https://localhost:8080/"
    },
    "id": "Dz2GK-cVa2TL",
    "outputId": "fdf5ded7-fbc2-4dad-c9a0-327a6b9be19c"
   },
   "outputs": [
    {
     "name": "stdout",
     "output_type": "stream",
     "text": [
      "Accuracy Mean Difference: Cluster-RF vs RandomForestClassifier:\n",
      "Difference: -0.0020, p-value: 0.5610\n"
     ]
    }
   ],
   "source": [
    "base=[\"RandomForestClassifier\"]  #lists with baselines\n",
    "\n",
    "#compare our method against baselines\n",
    "for b in base:\n",
    "  print(\"Accuracy Mean Difference: Cluster-RF vs %s:\" % b)  #message\n",
    "  cluster=np.array(accuracy_cluster)[:,0]  #getting results from our method\n",
    "  base=np.array(accuracy_base)[np.array(accuracy_base)[:,1]==b][:,0].astype(float)  #baselines results\n",
    "  diff=np.mean(cluster)-np.mean(base) #computing mean difference\n",
    "  p_value=permutation_test(base,cluster,1000) #estimating p-value\n",
    "  print(\"Difference: %0.4f, p-value: %0.4f\" % (diff, p_value))  #printing p-value"
   ]
  },
  {
   "cell_type": "code",
   "execution_count": 27,
   "metadata": {
    "id": "zBOMOpedl9Ep"
   },
   "outputs": [],
   "source": [
    "#converting results to data frames to plot them\n",
    "\n",
    "m_t=pd.DataFrame([])  #empty data frame\n",
    "#iterating through cluster-based method results\n",
    "for m, v in metrics_cluster.items():\n",
    "  if m!=\"accuracy\":\n",
    "    m_i=pd.DataFrame(v) #converting results to dataframe\n",
    "    m_i[\"metric\"]=m #adding results\n",
    "    m_i.iloc[:,1]=\"cluster\" #indicator column\n",
    "    m_t=pd.concat([m_t,m_i], ignore_index=True) #appending to empy dataframe\n",
    "\n",
    "#iterating through baseline results\n",
    "for m, v in metrics_base.items():\n",
    "  if m!=\"accuracy\":\n",
    "    m_i=pd.DataFrame(v) #converting results to dataframe\n",
    "    m_i[\"metric\"]=m  #adding results\n",
    "    m_t=pd.concat([m_t,m_i], ignore_index=True) #appending to empy dataframe\n",
    " "
   ]
  },
  {
   "cell_type": "code",
   "execution_count": 29,
   "metadata": {
    "colab": {
     "base_uri": "https://localhost:8080/",
     "height": 338
    },
    "id": "i1gN_FsPl6K1",
    "outputId": "34d22ab3-4cea-458d-fe20-bb70f61dc7cf"
   },
   "outputs": [
    {
     "name": "stderr",
     "output_type": "stream",
     "text": [
      "/usr/local/lib/python3.7/dist-packages/seaborn/_decorators.py:43: FutureWarning: Pass the following variables as keyword args: x, y. From version 0.12, the only valid positional argument will be `data`, and passing other arguments without an explicit keyword will result in an error or misinterpretation.\n",
      "  FutureWarning\n"
     ]
    },
    {
     "data": {
      "image/png": "[encoded data removed]",
      "text/plain": [
       "<Figure size 432x288 with 1 Axes>"
      ]
     },
     "metadata": {
      "needs_background": "light"
     },
     "output_type": "display_data"
    }
   ],
   "source": [
    "#Plotting results\n",
    "plot=sns.boxplot(m_t.iloc[:,2],m_t.iloc[:,0],  hue=m_t.iloc[:,1],\n",
    "                 data=m_t, palette=\"husl\")\n",
    "handles, _ = plot.get_legend_handles_labels()\n",
    "\n",
    "plt.legend( title=\"\", fontsize='small', fancybox=True)\n",
    "plot.legend(handles, [\"Kmeans-RF\", \"RF\"],ncol=3)\n",
    "plot.set(xlabel='Metric', ylabel='Value') #labeling axis\n",
    "plot.set_ylim((.6,1))\n",
    "plot.set_xticks(range(m_t.iloc[:,2].unique().shape[0])) \n",
    "plot.set_xticklabels([\"F1 Score\", \"G-mean\"])\n",
    "plt.savefig(\"cancer_box.png\", bbox_inches='tight') #saving figure"
   ]
  },
  {
   "cell_type": "markdown",
   "metadata": {
    "id": "_kJ0xpjZ3AbV"
   },
   "source": [
    "\n",
    "### 5. Test Set Results"
   ]
  },
  {
   "cell_type": "code",
   "execution_count": 30,
   "metadata": {
    "colab": {
     "base_uri": "https://localhost:8080/"
    },
    "id": "jbw-HXODbFyi",
    "outputId": "5d08350d-1344-4989-b7e7-46cabc95d058"
   },
   "outputs": [
    {
     "name": "stdout",
     "output_type": "stream",
     "text": [
      "Best k: 3\n",
      "Test accuracy: 0.9825\n",
      "Test f1: 0.9767\n",
      "Test g-mean: 0.9770\n"
     ]
    }
   ],
   "source": [
    "#####################################\n",
    "#Optimal number of clusters selection\n",
    "#####################################\n",
    "k_optimal=[]  #empty list to store results from each method\n",
    "wss=[]  #empty list for sum of squares\n",
    "silhouette_avg=[] #empty list for silhouette score\n",
    "#Iterating thorugh the maximum number of clusters to be tested\n",
    "for k in range(1,kmax+1):\n",
    "  kmeans = KMeans(n_clusters=k, random_state=21)\n",
    "  cluster=kmeans.fit_predict(x_best)\n",
    "  if k!=1:\n",
    "      sil=silhouette_score(x_best, cluster)\n",
    "      silhouette_avg.append(sil)\n",
    "  wss.append(kmeans.inertia_)\n",
    "\n",
    "#Elbow Method\n",
    "#Rescale sum of squares\n",
    "# wss=(wss-min(wss))/(max(wss)-min(wss))\n",
    "\n",
    "#defining variables to compute distance from sum of squares curve\n",
    "#to the arch connecting both extremes (see plot below)\n",
    "a=wss[0]-wss[-1]\n",
    "b=list(range(1,kmax+1))[-1]-list(range(1,kmax+1))[0]\n",
    "c1=list(range(1,kmax+1))[0]*wss[-1]\n",
    "c2=list(range(1,kmax+1))[-1]*wss[0]\n",
    "c=c1-c2\n",
    "\n",
    "#computing distance from sum of squares curve to the arch\n",
    "distance=[]\n",
    "for k in range(kmax):\n",
    "  distance.append(calc_distance(list(range(1,kmax+1))[k],wss[k],a,b,c))\n",
    "\n",
    "#appending optimal K based on the elbow method\n",
    "k_optimal.append(list(range(1,kmax+1))[np.argmax(distance)])\n",
    "\n",
    "###################\n",
    "#Silhouette Method \n",
    "################## \n",
    "#appending optimal K as that with the maximum silhouette score\n",
    "k_optimal.append(list(range(2,kmax+1))[np.argmax(silhouette_avg)])\n",
    "\n",
    "#choosing the max between the two methods (as it yields better results\n",
    "#than selecting the min)\n",
    "k_optimal=max(k_optimal)\n",
    "print(\"Best k: %s\" % k_optimal) #print optimal K\n",
    "\n",
    "################\n",
    "#Learning stage\n",
    "################\n",
    "#defining kmeans algorithm\n",
    "kmeans = KMeans(n_clusters=k_optimal, random_state=21)\n",
    "cluster=kmeans.fit_predict(x_best)\n",
    "\n",
    "#checking whether all clusters have instances from the same class\n",
    "i2=0  #iterator\n",
    "rf={} #empty dictionary to store Random Forest classifieres\n",
    "#iterating through the clusters\n",
    "for k in range(k_optimal):\n",
    "  #checking if cluster is 'complete' (instances from same class)\n",
    "  if (y3_train[cluster==k].unique().shape[0]==1) is False:\n",
    "    #defining classifier and storing it in the dictionary\n",
    "    rf['rf_{0}'.format(k)] = RandomForestClassifier(500, random_state=21)\n",
    "    #training classifier\n",
    "    rf[list(rf.keys())[i2]].fit(x_best[cluster==k],y3_train[cluster==k])\n",
    "    i2+=1\n",
    "\n",
    "##################\n",
    "#predicting Stage\n",
    "##################\n",
    "#fitting kmeans on validation set previoulsy trained using training set\n",
    "y_hat=kmeans.predict(xv_best)\n",
    "i3=0 #iterator\n",
    "#Loop through clusters to check if it has instances from the same class\n",
    "for k in range(k_optimal):\n",
    "  #checking if cluster is 'complete'\n",
    "  if (y3_train[cluster==k].unique().shape[0]==1) is True:\n",
    "    #if it is complete, assign the corresponding class to the validation instances in that cluster\n",
    "    y_hat[y_hat==k]=np.mean(y3_train[cluster==k])\n",
    "  else:\n",
    "    #if not use the pre-trained classifier to predict the class\n",
    "    y_hat[y_hat==k]=rf[list(rf.keys())[i3]].predict(xv_best[y_hat==k])\n",
    "    i3+=1\n",
    "\n",
    "#computing metrics\n",
    "f1_t=f1_score(y3_test,y_hat)\n",
    "acc_t=accuracy_score(y3_test,y_hat)\n",
    "pr_t=precision_score(y3_test,y_hat)\n",
    "rec_t=recall_score(y3_test,y_hat)\n",
    "gmean_t=(pr_t*rec_t)**(0.5)\n",
    "\n",
    "#pritning results\n",
    "metrics_test={\"accuracy\": acc_t, \"f1\": f1_t, \"g-mean\": gmean_t}\n",
    "for m, v in metrics_test.items():\n",
    "  print(\"Test %s: %0.4f\" % (m,v))\n",
    "\n"
   ]
  }
 ],
 "metadata": {
  "colab": {
   "collapsed_sections": [],
   "name": "imbalanced_data_cancer.ipynb",
   "provenance": []
  },
  "kernelspec": {
   "display_name": "Python 3 (ipykernel)",
   "language": "python",
   "name": "python3"
  },
  "language_info": {
   "codemirror_mode": {
    "name": "ipython",
    "version": 3
   },
   "file_extension": ".py",
   "mimetype": "text/x-python",
   "name": "python",
   "nbconvert_exporter": "python",
   "pygments_lexer": "ipython3",
   "version": "3.9.7"
  }
 },
 "nbformat": 4,
 "nbformat_minor": 1
}
